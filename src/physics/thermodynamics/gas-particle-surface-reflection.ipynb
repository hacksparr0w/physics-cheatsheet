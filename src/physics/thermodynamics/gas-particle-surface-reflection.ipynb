{
 "cells": [
  {
   "cell_type": "markdown",
   "metadata": {},
   "source": [
    "# Gas particle-surface reflection\n",
    "\n",
    "As we are unable to manufacture perfectly flat container surfaces, gas particles generally deviate from the ideal specular (mirror-like) reflection and follow diffuse reflection laws."
   ]
  },
  {
   "cell_type": "markdown",
   "metadata": {},
   "source": [
    "## Accommodation coefficient\n",
    "\n",
    "Accommodation coefficient is a quantity characterizing the behavior of gas or vapor particles in their collisions with a solid or liquid body surface.\n",
    "\n",
    "The accommodation coefficient for temperature difference can be defined as:\n",
    "\n",
    "\\begin{aligned}\n",
    "  d = \\frac{T_1' - T_1}{T_2 - T_1}\n",
    "\\end{aligned}\n",
    "\n",
    "Where $T_1$ is the temperature of the colliding molecule before the collision, $T_1'$ is the temperature of the molecule after the collision and $T_2$ is the temperature of the surface the molecule collides with."
   ]
  },
  {
   "cell_type": "markdown",
   "metadata": {},
   "source": [
    "## Knudsen's cosine law\n",
    "\n",
    "The Knudsen's cosine law is an equivalent of Lambert's cosine law for gas particles and describes a situation where gas molecules reflect from a surface in non mirror-like fashion."
   ]
  },
  {
   "cell_type": "markdown",
   "metadata": {},
   "source": [
    "## Resources\n",
    "\n",
    "- [The cosine law at the atomic scale: Toward realistic\n",
    "simulations of Knudsen diffusion](https://hal.archives-ouvertes.fr/hal-00166706/document)"
   ]
  }
 ],
 "metadata": {
  "kernelspec": {
   "display_name": "Python 3",
   "language": "python",
   "name": "python3"
  },
  "language_info": {
   "codemirror_mode": {
    "name": "ipython",
    "version": 3
   },
   "file_extension": ".py",
   "mimetype": "text/x-python",
   "name": "python",
   "nbconvert_exporter": "python",
   "pygments_lexer": "ipython3",
   "version": "3.7.3"
  }
 },
 "nbformat": 4,
 "nbformat_minor": 4
}
