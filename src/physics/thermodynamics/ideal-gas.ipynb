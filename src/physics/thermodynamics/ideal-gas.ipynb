{
 "cells": [
  {
   "cell_type": "markdown",
   "metadata": {},
   "source": [
    "# Ideal Gas\n",
    "\n",
    "An ideal gas is a theoretical gas composed of many randomly moving point particles that are not subject to interparticle interactions."
   ]
  },
  {
   "cell_type": "markdown",
   "metadata": {},
   "source": [
    "## Assumptions\n",
    "\n",
    "The ideal gas model depends on the following assumptions:\n",
    "  - The molecules of the gas are indistinguishable, small, hard spheres\n",
    "  - The average distance between molecules is much larger than the size of the molecules\n",
    "  - There are no attractive or repulsive forces between the molecules apart from those that determine their point-like collisions\n",
    "  - The molecules are constantly moving in random directions\n",
    "  - The only forces between the gas molecules and the surroundings are those that determine the point-like collisions of the molecules with the walls\n",
    "  - All collisions are elastic and all motion is frictionless"
   ]
  },
  {
   "cell_type": "markdown",
   "metadata": {},
   "source": [
    "## Properties\n",
    "\n",
    "As the simplest thermodynamicl system, ideal gas can be described using two equations of state."
   ]
  },
  {
   "cell_type": "markdown",
   "metadata": {},
   "source": [
    "### Ideal gas law\n",
    "\n",
    "\\begin{aligned}\n",
    " pV = nRT\n",
    "\\end{aligned}\n",
    "\n",
    "Where $p$ is the pressure, $V$ is the volume, $n$ is the amount of substance of the gas in moles, $R$ is the gas constant and $T$ is the thermodynamic temperature."
   ]
  },
  {
   "cell_type": "markdown",
   "metadata": {},
   "source": [
    "### Internal energy\n",
    "\n",
    "\\begin{aligned}\n",
    "U = C_v n R T\n",
    "\\end{aligned}\n",
    "\n",
    "Where $U$ is the internal energy and $C_v$ is the dimensionless specific heat capacity at constant volume."
   ]
  },
  {
   "cell_type": "markdown",
   "metadata": {},
   "source": [
    "### Dalton's law of partial pressures\n",
    "\n",
    "Dalton's law of partial pressures states that in a mixture of non-reacting gases, the total pressure exerted is equal to the sum of the partial pressures of the individual gases. This empirical law was observed by John Dalton in 1801 and published in 1802.\n",
    "\n",
    "\\begin{aligned}\n",
    "  p = \\sum_{i=1}^j p_i\n",
    "\\end{aligned}"
   ]
  }
 ],
 "metadata": {
  "kernelspec": {
   "display_name": "Python 3",
   "language": "python",
   "name": "python3"
  },
  "language_info": {
   "codemirror_mode": {
    "name": "ipython",
    "version": 3
   },
   "file_extension": ".py",
   "mimetype": "text/x-python",
   "name": "python",
   "nbconvert_exporter": "python",
   "pygments_lexer": "ipython3",
   "version": "3.7.3"
  }
 },
 "nbformat": 4,
 "nbformat_minor": 4
}
