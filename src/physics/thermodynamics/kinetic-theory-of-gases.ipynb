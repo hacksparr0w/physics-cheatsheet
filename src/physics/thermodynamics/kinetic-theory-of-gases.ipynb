{
 "cells": [
  {
   "cell_type": "markdown",
   "metadata": {},
   "source": [
    "# Kinetic theory of gases\n",
    "\n",
    "The kinetic theory of gases is a simple, historically significant model of the thermodynamic behavior of gases, with which many principal concepts of thermodynamics were established."
   ]
  },
  {
   "cell_type": "markdown",
   "metadata": {},
   "source": [
    "## Speed of molecules\n",
    "\n",
    "\\begin{aligned}\n",
    "    v_p = \\sqrt{\\frac{2kT}{m}}\n",
    "\\end{aligned}\n",
    "\\begin{aligned}\n",
    "  \\langle v \\rangle = \\sqrt{\\frac{8kT}{\\pi m}}\n",
    "\\end{aligned}\n",
    "\\begin{aligned}\n",
    "  \\langle v^2 \\rangle = \\sqrt{\\frac{3kT}{m}}\n",
    "\\end{aligned}\n",
    "\n",
    "Where $m$ is mass of one molecule of gas.\n",
    "\n",
    "The most probable speed $v_p$ is 81.6% of the $\\langle v^2 \\rangle$ speed, and the arithmetic mean speed $\\langle v \\rangle$ is 92.1% of the $\\langle v^2 \\rangle$."
   ]
  },
  {
   "cell_type": "markdown",
   "metadata": {},
   "source": [
    "## Mean free path\n",
    "\n",
    "The mean free path is the average distance travelled by a moving particle between successive collisions.\n",
    "\n",
    "\\begin{aligned}\n",
    "  \\lambda = \\frac{1}{\\sqrt{2} n \\pi d^2}\n",
    "\\end{aligned}\n",
    "\n",
    "Where $n$ is concentration and $d$ is the effective diameter of the gas molecule.\n",
    "\n",
    "There is also a more precise model to calculate the mean free path:\n",
    "\n",
    "\\begin{aligned}\n",
    " \\lambda = \\frac{1}{\\sqrt{2} n \\pi d^2} \\frac{1}{1 + \\frac{T_l}{T}}\n",
    "\\end{aligned}\n",
    "\n",
    "Where $T_l$ is Sutherland's constant for the given gas."
   ]
  },
  {
   "cell_type": "markdown",
   "metadata": {},
   "source": [
    "## Particle collision\n",
    "\n",
    "The number of particles colliding with unit-area during one second can be obtined as:\n",
    "\n",
    "\\begin{aligned}\n",
    "  N = \\frac{1}{4} n \\langle v \\rangle\n",
    "\\end{aligned}\n",
    "\n",
    "Where $n$ is the concentration and $\\langle v \\rangle$ is the arithmetic mean speed of the gas molecules.\n",
    "\n",
    "The pressure is caused by particles colliding with the container. This fact can be expressed by the following equation:\n",
    "\n",
    "\\begin{aligned}\n",
    "  p = \\frac{1}{3} n m \\langle v^2 \\rangle\n",
    "\\end{aligned}\n",
    "\n",
    "Where $n$ is the concentration of the gas and $m$ is the mass of the gas molecule."
   ]
  },
  {
   "cell_type": "markdown",
   "metadata": {},
   "source": [
    "## Diffusion\n",
    "\n",
    "Diffusion is the net movement of molecules from a region of higher concentration to a region of lower concentration. Diffusion is driven by a gradient in concentration.\n",
    "\n",
    "Based on the value of mean free path of the gas, we distinguish 3 main diffusion models:\n",
    "  - For $\\lambda \\gg L$ we use the molecular diffusion model\n",
    "  - For $\\lambda \\approx L$ we use the viscous molecular diffusion model\n",
    "  - For $\\lambda \\ll L$ we use the viscous model\n",
    "\n",
    "### Viscous diffusion\n",
    "\n",
    "For two gases with molecules of the same diameter $d$ and mass $m$, we define a self-diffusion coefficient:\n",
    "\n",
    "\\begin{aligned}\n",
    "  D = \\frac{1}{3} \\langle v \\rangle \\lambda\n",
    "\\end{aligned}\n",
    "\n",
    "Where $\\langle v \\rangle$ is the arithmetic mean speed of the gas molecules and $\\lambda$ is the mean free path of the gas molecules."
   ]
  },
  {
   "cell_type": "markdown",
   "metadata": {},
   "source": [
    "## Effusion\n",
    "\n",
    "Effusion is the process in which a gas escapes from a container through a hole of diameter considerably smaller than the mean free path of the molecules.\n",
    "\n",
    "### Flow criteria\n",
    "\n",
    "The gases stop flowing when the following equation applies:\n",
    "\n",
    "\\begin{aligned}\n",
    "  \\frac{p_2}{p_1} = \\sqrt{\\frac{T_2}{T_1}}\n",
    "\\end{aligned}"
   ]
  }
 ],
 "metadata": {
  "kernelspec": {
   "display_name": "Python 3",
   "language": "python",
   "name": "python3"
  },
  "language_info": {
   "codemirror_mode": {
    "name": "ipython",
    "version": 3
   },
   "file_extension": ".py",
   "mimetype": "text/x-python",
   "name": "python",
   "nbconvert_exporter": "python",
   "pygments_lexer": "ipython3",
   "version": "3.7.3"
  }
 },
 "nbformat": 4,
 "nbformat_minor": 4
}
