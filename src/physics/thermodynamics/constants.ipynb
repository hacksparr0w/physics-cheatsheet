{
 "cells": [
  {
   "cell_type": "markdown",
   "metadata": {},
   "source": [
    "# Constants\n",
    "\n",
    "| Symbol | Name | Description | Value | Conversion |\n",
    "|:------:|:----:|:-----------:|:-----:|:------------:|\n",
    "| $$N_A$$ | Avogadro number | Scale of number of particles with the amount of substance | $$6.022 \\cdot 10^{23}$$ | |\n",
    "| $$k$$ | Boltzman constant | Scale of average relative kinetic energy of particles with the thermodynamic temperature | $$1.380 \\cdot 10^{-23} \\, \\mathrm{J} \\cdot \\mathrm{K}^{-1}$$ | $$k = \\frac{R}{N_A}$$ |\n",
    "| $$R$$ | Universal gas constant | | $$8.314\\, J \\cdot K^{-1} \\cdot \\mathrm{mol}^{-1}$$ | $$R=kN_A$$ |"
   ]
  }
 ],
 "metadata": {
  "kernelspec": {
   "display_name": "Python 3",
   "language": "python",
   "name": "python3"
  },
  "language_info": {
   "codemirror_mode": {
    "name": "ipython",
    "version": 3
   },
   "file_extension": ".py",
   "mimetype": "text/x-python",
   "name": "python",
   "nbconvert_exporter": "python",
   "pygments_lexer": "ipython3",
   "version": "3.7.3"
  }
 },
 "nbformat": 4,
 "nbformat_minor": 4
}
