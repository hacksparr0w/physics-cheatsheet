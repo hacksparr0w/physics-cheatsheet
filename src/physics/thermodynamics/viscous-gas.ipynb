{
 "cells": [
  {
   "cell_type": "markdown",
   "metadata": {},
   "source": [
    "# Viscous gas\n",
    "\n",
    "A gas is said to be viscous if its particles move with friction."
   ]
  },
  {
   "cell_type": "markdown",
   "metadata": {},
   "source": [
    "## Dynamic viscosity\n",
    "\n",
    "\\begin{aligned}\n",
    "  \\eta = \\frac{1}{3} \\rho  \\langle v \\rangle\n",
    "\\end{aligned}\n",
    "\n",
    "Note that dynamic viscosity is independent on the internal pressure only if the mean free path of the gas molecules is much lesser than the container diameter ($\\lambda \\ll L$). Some manometers exploit the fact that viscosity is proportional to the system's pressure and may not work in certain environments."
   ]
  },
  {
   "cell_type": "markdown",
   "metadata": {},
   "source": [
    "## Heat transfer\n",
    "\n",
    "Heat transfer is defined as the amount of heat transferred through a surface of $1 \\, m^2$ in $1 \\, s$. Or mathematically:\n",
    "\n",
    "\\begin{aligned}\n",
    "  W = -\\Lambda \\frac{\\mathrm{d}T}{\\mathrm{d}x}\n",
    "\\end{aligned}\n",
    "\n",
    "For viscous gases the factor $\\Lambda\\$ is equal to:\n",
    "\n",
    "\\begin{aligned}\n",
    "  \\Lambda = \\frac{1}{3} \\rho \\langle v \\rangle \\lambda C_v\n",
    "\\end{aligned}"
   ]
  }
 ],
 "metadata": {
  "kernelspec": {
   "display_name": "Python 3",
   "language": "python",
   "name": "python3"
  },
  "language_info": {
   "codemirror_mode": {
    "name": "ipython",
    "version": 3
   },
   "file_extension": ".py",
   "mimetype": "text/x-python",
   "name": "python",
   "nbconvert_exporter": "python",
   "pygments_lexer": "ipython3",
   "version": "3.7.3"
  }
 },
 "nbformat": 4,
 "nbformat_minor": 4
}
