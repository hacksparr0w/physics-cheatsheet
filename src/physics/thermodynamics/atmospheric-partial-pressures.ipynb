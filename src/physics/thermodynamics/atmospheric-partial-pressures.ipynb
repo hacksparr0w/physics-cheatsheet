{
 "cells": [
  {
   "cell_type": "markdown",
   "metadata": {},
   "source": [
    "# Atmospheric partial pressures\n",
    "\n",
    "| Gas | Pressure (Pa) |\n",
    "|:---:|:-------------:|\n",
    "| $$\\mathrm{N}_2$$ | 79117 |\n",
    "| $$\\mathrm{O}_2$$ | 21223 |\n",
    "| $$\\mathrm{CO}_2$$ | 37.5 |\n",
    "| $$\\mathrm{Ar}$$ | 946.357 |\n",
    "| $$\\mathrm{Ne}$$ | 1.842 |\n",
    "| $$\\mathrm{He}$$ | 0.51 |\n",
    "| $$\\mathrm{Kr}$$ | 0.116 |\n",
    "| $$\\mathrm{Xe}$$ | 0.009 |\n",
    "| $$\\mathrm{H}_2$$ | 0.051 |\n",
    "| $$\\mathrm{CH}_4$$ | 0.203 |\n",
    "| $$\\mathrm{N}_2\\mathrm{O}$$ | 0.051 |"
   ]
  }
 ],
 "metadata": {
  "kernelspec": {
   "display_name": "Python 3",
   "language": "python",
   "name": "python3"
  },
  "language_info": {
   "codemirror_mode": {
    "name": "ipython",
    "version": 3
   },
   "file_extension": ".py",
   "mimetype": "text/x-python",
   "name": "python",
   "nbconvert_exporter": "python",
   "pygments_lexer": "ipython3",
   "version": "3.7.3"
  }
 },
 "nbformat": 4,
 "nbformat_minor": 4
}
